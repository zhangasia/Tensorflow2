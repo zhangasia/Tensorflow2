{
 "metadata": {
  "language_info": {
   "codemirror_mode": {
    "name": "ipython",
    "version": 3
   },
   "file_extension": ".py",
   "mimetype": "text/x-python",
   "name": "python",
   "nbconvert_exporter": "python",
   "pygments_lexer": "ipython3",
   "version": "3.7.4-final"
  },
  "orig_nbformat": 2,
  "kernelspec": {
   "name": "pytorch",
   "display_name": "Pytorch for Deeplearning"
  }
 },
 "nbformat": 4,
 "nbformat_minor": 2,
 "cells": [
  {
   "cell_type": "code",
   "execution_count": 2,
   "metadata": {},
   "outputs": [],
   "source": [
    "import tensorflow as tf\n",
    "import pandas as pd\n",
    "import numpy as np\n",
    "import matplotlib.pyplot as plt"
   ]
  },
  {
   "cell_type": "code",
   "execution_count": 4,
   "metadata": {},
   "outputs": [],
   "source": [
    "(train_image,train_label),(test_image,test_label) = tf.keras.datasets.fashion_mnist.load_data()"
   ]
  },
  {
   "cell_type": "code",
   "execution_count": 6,
   "metadata": {},
   "outputs": [],
   "source": [
    "train_image = train_image / 255\n",
    "test_image = test_image / 255"
   ]
  },
  {
   "cell_type": "code",
   "execution_count": 7,
   "metadata": {},
   "outputs": [],
   "source": [
    "input = tf.keras.Input(shape = (28,28))"
   ]
  },
  {
   "cell_type": "code",
   "execution_count": 8,
   "metadata": {},
   "outputs": [],
   "source": [
    "x = tf.keras.layers.Flatten()(input)"
   ]
  },
  {
   "cell_type": "code",
   "execution_count": 9,
   "metadata": {},
   "outputs": [],
   "source": [
    "x = tf.keras.layers.Dense(32,activation = 'relu')(x)"
   ]
  },
  {
   "cell_type": "code",
   "execution_count": 10,
   "metadata": {},
   "outputs": [],
   "source": [
    "x = tf.keras.layers.Dropout(0.5)(x)"
   ]
  },
  {
   "cell_type": "code",
   "execution_count": 13,
   "metadata": {},
   "outputs": [],
   "source": [
    "x = tf.keras.layers.Dense(32,activation = 'relu')(x)"
   ]
  },
  {
   "cell_type": "code",
   "execution_count": 15,
   "metadata": {},
   "outputs": [],
   "source": [
    "output = tf.keras.layers.Dense(32,activation = 'softmax')(x)"
   ]
  },
  {
   "cell_type": "code",
   "execution_count": 16,
   "metadata": {},
   "outputs": [],
   "source": [
    "model = tf.keras.Model(inputs = input,outputs = output)"
   ]
  },
  {
   "cell_type": "code",
   "execution_count": 17,
   "metadata": {
    "tags": []
   },
   "outputs": [
    {
     "output_type": "stream",
     "name": "stdout",
     "text": "Model: \"model\"\n_________________________________________________________________\nLayer (type)                 Output Shape              Param #   \n=================================================================\ninput_1 (InputLayer)         [(None, 28, 28)]          0         \n_________________________________________________________________\nflatten (Flatten)            (None, 784)               0         \n_________________________________________________________________\ndense (Dense)                (None, 32)                25120     \n_________________________________________________________________\ndropout (Dropout)            (None, 32)                0         \n_________________________________________________________________\ndense_1 (Dense)              (None, 32)                1056      \n_________________________________________________________________\ndense_3 (Dense)              (None, 32)                1056      \n_________________________________________________________________\ndense_5 (Dense)              (None, 32)                1056      \n=================================================================\nTotal params: 28,288\nTrainable params: 28,288\nNon-trainable params: 0\n_________________________________________________________________\n"
    }
   ],
   "source": [
    "model.summary()"
   ]
  },
  {
   "cell_type": "code",
   "execution_count": 18,
   "metadata": {},
   "outputs": [],
   "source": [
    "model.compile(optimizer = tf.keras.optimizers.Adam(learning_rate = 0.001),\n",
    "loss = 'sparse_categorical_crossentropy',\n",
    "metrics = ['acc'])"
   ]
  },
  {
   "cell_type": "code",
   "execution_count": 19,
   "metadata": {
    "tags": []
   },
   "outputs": [
    {
     "output_type": "stream",
     "name": "stdout",
     "text": "Epoch 1/10\n1875/1875 [==============================] - 4s 2ms/step - loss: 1.6105 - acc: 0.3679 - val_loss: 1.0196 - val_acc: 0.6338\nEpoch 2/10\n1875/1875 [==============================] - 5s 2ms/step - loss: 1.1035 - acc: 0.5706 - val_loss: 0.8591 - val_acc: 0.6996\nEpoch 3/10\n1875/1875 [==============================] - 4s 2ms/step - loss: 0.9845 - acc: 0.6355 - val_loss: 0.7503 - val_acc: 0.7505\nEpoch 4/10\n1875/1875 [==============================] - 4s 2ms/step - loss: 0.9052 - acc: 0.6676 - val_loss: 0.7255 - val_acc: 0.7493\nEpoch 5/10\n1875/1875 [==============================] - 5s 2ms/step - loss: 0.8585 - acc: 0.6851 - val_loss: 0.7240 - val_acc: 0.7437\nEpoch 6/10\n1875/1875 [==============================] - 5s 2ms/step - loss: 0.8312 - acc: 0.6961 - val_loss: 0.6875 - val_acc: 0.7541\nEpoch 7/10\n1875/1875 [==============================] - 5s 2ms/step - loss: 0.8056 - acc: 0.7062 - val_loss: 0.6628 - val_acc: 0.7594\nEpoch 8/10\n1875/1875 [==============================] - 5s 2ms/step - loss: 0.7856 - acc: 0.7132 - val_loss: 0.7128 - val_acc: 0.7392\nEpoch 9/10\n1875/1875 [==============================] - 5s 3ms/step - loss: 0.7727 - acc: 0.7201 - val_loss: 0.6907 - val_acc: 0.7454\nEpoch 10/10\n1875/1875 [==============================] - 5s 3ms/step - loss: 0.7527 - acc: 0.7255 - val_loss: 0.7287 - val_acc: 0.7099\n"
    }
   ],
   "source": [
    "history = model.fit(train_image,train_label,epochs=10,validation_data=(test_image,test_label))"
   ]
  },
  {
   "cell_type": "code",
   "execution_count": null,
   "metadata": {},
   "outputs": [],
   "source": []
  }
 ]
}